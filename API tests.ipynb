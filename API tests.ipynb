{
 "cells": [
  {
   "cell_type": "code",
   "execution_count": null,
   "metadata": {},
   "outputs": [],
   "source": [
    "import requests\n",
    "import json\n",
    "import pandas as pd\n",
    "from pandas import DataFrame\n",
    "from datetime import datetime, timedelta\n",
    "import pgeocode\n",
    "import folium\n",
    "import time\n",
    "import statistics"
   ]
  },
  {
   "cell_type": "markdown",
   "metadata": {},
   "source": [
    "### Searching after SIC codes"
   ]
  },
  {
   "cell_type": "code",
   "execution_count": null,
   "metadata": {},
   "outputs": [],
   "source": [
    "class CHouse:\n",
    "    api_calls = 0\n",
    "    total_api_calls = 0\n",
    "    current_time = datetime.now()\n",
    "    \n",
    "    def __init__(self, api_key):\n",
    "        self.api_key = api_key        \n",
    "        \n",
    "    @classmethod\n",
    "    def api_guard(cls):\n",
    "        call_time = datetime.now()\n",
    "        buffer_delta = timedelta(seconds=420)\n",
    "        \n",
    "        if call_time > (CHouse.current_time + buffer_delta):\n",
    "            CHouse.api_calls = 0\n",
    "            CHouse.current_time = datetime.now()\n",
    "            \n",
    "        if CHouse.api_calls >= 599:\n",
    "            print(\"API cool down 5 min\")\n",
    "            time.sleep(310)\n",
    "            print(f\"Restarting, current total API calls: {CHouse.total_api_calls}\")\n",
    "            CHouse.api_calls = 0\n",
    "        else:\n",
    "            CHouse.api_calls += 1\n",
    "            CHouse.total_api_calls += 1\n",
    "            \n",
    "        CHouse.current_time = datetime.now()\n",
    "            \n",
    "    def _enrich_geo_loc(self, df: DataFrame) -> DataFrame:\n",
    "        nomi = pgeocode.Nominatim('gb')\n",
    "        output_lat = []\n",
    "        output_lon = []\n",
    "        for i in range(df.shape[0]):\n",
    "            try:\n",
    "                temp = (df['registered_office_address'][i]['postal_code'])\n",
    "                output_lat.append(nomi.query_postal_code(temp)[['latitude', 'longitude']][0])\n",
    "                output_lon.append(nomi.query_postal_code(temp)[['latitude', 'longitude']][1])\n",
    "            except:\n",
    "                output_lat.append('NaN')\n",
    "                output_lon.append('NaN')\n",
    "                \n",
    "        df['Latitude'] = output_lat\n",
    "        df['Longitude'] = output_lon\n",
    "        \n",
    "        return df\n",
    "\n",
    "    def _founder_api(self,company_number: str) -> (list, list, list):\n",
    "        url_founder = \"https://api.company-information.service.gov.uk/company/{}/persons-with-significant-control\"\n",
    "        birth_year = []\n",
    "        name = []\n",
    "        residency = []\n",
    "        \n",
    "        response = requests.get(url_founder.format(company_number),auth=(self.api_key,''))\n",
    "        json_search_result = response.text\n",
    "        search_result = json.JSONDecoder().decode(json_search_result)\n",
    "\n",
    "        for i in range(len(search_result['items'])):\n",
    "            birth_year.append(search_result['items'][i]['date_of_birth']['year'])\n",
    "            name.append(search_result['items'][i]['name'])\n",
    "            residency.append(search_result['items'][i]['country_of_residence'])\n",
    "\n",
    "        return birth_year, name, residency\n",
    "        \n",
    "    def filter_sic(self, sic_code: int, status: str, index: int) -> DataFrame:\n",
    "        url_companies = \"https://api.company-information.service.gov.uk/advanced-search/companies?sic_codes={}&start_index={}&company_status={}\"\n",
    "        output = []\n",
    "        while True:\n",
    "            CHouse.api_guard()\n",
    "            response = requests.get(url_companies.format(sic_code, index, status),auth=(self.api_key,''))\n",
    "            json_search_result = response.text\n",
    "            search_result = json.JSONDecoder().decode(json_search_result)\n",
    "            if len(search_result) == 4:\n",
    "                break\n",
    "            output += search_result['items']\n",
    "            index += 20\n",
    "            df = pd.DataFrame(output)[['company_name', 'company_number', 'company_type', 'date_of_creation', 'registered_office_address', 'sic_codes']]\n",
    "            df['date_of_creation'] =  pd.to_datetime(df['date_of_creation'], format='%Y-%m-%d')\n",
    "        return df\n",
    "        \n",
    "    def create_map(self, df: DataFrame) -> object:\n",
    "        df_temp = self._enrich_geo_loc(df)\n",
    "        m = folium.Map(location=[51.5072, 0])\n",
    "\n",
    "        for i in range(df_temp.shape[0]):\n",
    "            try:\n",
    "                folium.Marker(\n",
    "                    [df_temp['Latitude'][i], df_temp['Longitude'][i]], popup=f\"<i>{df_temp['company_name'][i]}\"\n",
    "        ).add_to(m)\n",
    "            except:\n",
    "                continue\n",
    "        return m\n",
    "\n",
    "    def enrich_founder(self, df: DataFrame) -> None:\n",
    "        result_year = []\n",
    "        result_name = []\n",
    "        result_residency = []\n",
    "        \n",
    "        for i in range(len(df['company_number'])):\n",
    "            try:\n",
    "                CHouse.api_guard()\n",
    "                export = self._founder_api(df['company_number'][i])\n",
    "                result_year.append(export[0])\n",
    "                result_name.append(export[1])\n",
    "                result_residency.append(export[2])\n",
    "            except:\n",
    "                result_year.append('NaN')\n",
    "                result_name.append('NaN')\n",
    "                result_residency.append('NaN')\n",
    "                \n",
    "        result_year_median = []\n",
    "        result_year_min = []\n",
    "        \n",
    "        for i in range(len(result_year)):\n",
    "            result_year_median.append(statistics.median(result_year[i]))\n",
    "            result_year_min.append(min(result_year[i]))\n",
    "            \n",
    "        df['Significant Person Birth Year/s'] = result_year\n",
    "        df['Median Person Birth Year'] = result_year_median\n",
    "        df['Oldest Person Birth Year'] = result_year_min\n",
    "        df['Significant Person Name/s'] = result_name\n",
    "        df['Significant Person Residency'] = result_residency\n",
    "        \n",
    "    def retrieve_filings(self, company_number: str) -> dict:\n",
    "        url_filings = \"https://api.company-information.service.gov.uk/company/{}/filing-history?items_per_page=200\"\n",
    "        \n",
    "        CHouse.api_guard()\n",
    "        response = requests.get(url_filings.format(company_number),auth=(self.api_key,''))\n",
    "        json_search_result = response.text\n",
    "        search_result = json.JSONDecoder().decode(json_search_result)\n",
    "        \n",
    "        return search_result\n",
    "    \n",
    "    def export_excel(self, df:DataFrame) -> None:\n",
    "        df.to_excel(\"CompaniesExport.xlsx\")"
   ]
  },
  {
   "cell_type": "code",
   "execution_count": null,
   "metadata": {},
   "outputs": [],
   "source": [
    "w = CHouse()"
   ]
  },
  {
   "cell_type": "code",
   "execution_count": null,
   "metadata": {},
   "outputs": [],
   "source": [
    "table = w.filter_sic(62011, 'active', 8700)"
   ]
  },
  {
   "cell_type": "code",
   "execution_count": null,
   "metadata": {},
   "outputs": [],
   "source": [
    "table"
   ]
  },
  {
   "cell_type": "code",
   "execution_count": null,
   "metadata": {},
   "outputs": [],
   "source": [
    "w.create_map(table)"
   ]
  },
  {
   "cell_type": "code",
   "execution_count": null,
   "metadata": {},
   "outputs": [],
   "source": [
    "w.enrich_founder(table)\n",
    "table"
   ]
  },
  {
   "cell_type": "code",
   "execution_count": null,
   "metadata": {},
   "outputs": [],
   "source": [
    "w.export_excel(table)"
   ]
  },
  {
   "cell_type": "code",
   "execution_count": null,
   "metadata": {},
   "outputs": [],
   "source": [
    "w.retrieve_filings(\"08403673\")"
   ]
  }
 ],
 "metadata": {
  "kernelspec": {
   "display_name": "Python 3",
   "language": "python",
   "name": "python3"
  },
  "language_info": {
   "codemirror_mode": {
    "name": "ipython",
    "version": 3
   },
   "file_extension": ".py",
   "mimetype": "text/x-python",
   "name": "python",
   "nbconvert_exporter": "python",
   "pygments_lexer": "ipython3",
   "version": "3.7.4"
  }
 },
 "nbformat": 4,
 "nbformat_minor": 2
}
